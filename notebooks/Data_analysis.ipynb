{
 "cells": [
  {
   "cell_type": "markdown",
   "id": "32362045-40f3-4a7b-bf84-7b84363f4977",
   "metadata": {},
   "source": [
    "## UCI Adult Income Dataset - Exploratory and Descriptive analysis\n",
    "\n",
    "In this notebook, we focus on **data preparation**, **cleaning**, and **preprocessing** for the **UCI Adult Income Dataset**, a popular dataset often used for classification tasks predicting whether an individual earns more or less than $50,000 annually based on demographic and work-related attributes.\r\n",
    "\r\n",
    "Good data preprocessing is crucial for reliable and interpretable results in machine learning and analytics workflows. Here, we address common data issues such as **missing values, duplicates, and inconsistent categorical labels** while creating derived features to improve downstream analysis.\r\n",
    "\r\n"
   ]
  },
  {
   "cell_type": "markdown",
   "id": "98a2f2b4-1159-474d-925b-e6f3f6db4f84",
   "metadata": {},
   "source": [
    "We start by importing essential Python libraries for data handling and manipulation.\n",
    "\n",
    "- `pandas` for structured data operations.\n",
    "\n",
    "- `numpy` for numerical operations.\n",
    "\n",
    "- `os` for interacting with the operating system and directory structures.\n"
   ]
  },
  {
   "cell_type": "code",
   "execution_count": 1,
   "id": "620d98d3-613d-4da5-8c01-15b7a0f31758",
   "metadata": {},
   "outputs": [],
   "source": [
    "# Import libraries\n",
    "import os\n",
    "import pandas as pd\n",
    "import numpy as np\n",
    "import plotly.express as px"
   ]
  },
  {
   "cell_type": "markdown",
   "id": "5a88060c-1d34-4b63-aeb1-5233da04cbed",
   "metadata": {},
   "source": [
    "## Define and Create Directory Paths\r\n",
    "\r\n",
    "To ensure reproducibility andorganized storage, we programmatically create directories for:\r\n",
    "\r\n",
    "- **raw data**\r\n",
    "- **processed data**\r\n",
    "- **results**\r\n",
    "- **documentation**\r\n",
    "\r\n",
    "These directories will store intermediate and final outputs for reproducibility.\r\n",
    "\r\n"
   ]
  },
  {
   "cell_type": "code",
   "execution_count": 2,
   "id": "67cc9da8-add9-495b-973d-c72b55a9e63f",
   "metadata": {},
   "outputs": [],
   "source": [
    "# Get working directory\n",
    "current_dir = os.getcwd()\n",
    "\n",
    "# Go one directory up to the root directory\n",
    "project_root_dir = os.path.dirname(current_dir)\n",
    "\n",
    "# Define paths to the data folder\n",
    "data_dir = os.path.join(project_root_dir, 'data')\n",
    "raw_dir = os.path.join(data_dir, 'raw')        \n",
    "processed_dir = os.path.join(data_dir, 'processed')\n",
    "\n",
    "# Define paths to results folder\n",
    "results_dir = os.path.join(project_root_dir, 'results')\n",
    "\n",
    "# Define paths to docs folder\n",
    "docs_dir = os.path.join(project_root_dir, 'docs')\n",
    "\n",
    "# Create directories if they do not exist\n",
    "os.makedirs(raw_dir, exist_ok = True)\n",
    "os.makedirs(processed_dir, exist_ok = True)\n",
    "os.makedirs(results_dir, exist_ok = True)\n",
    "os.makedirs(docs_dir, exist_ok = True)"
   ]
  },
  {
   "cell_type": "markdown",
   "id": "9ca9b158-6c38-4520-afc5-e89ab7188697",
   "metadata": {},
   "source": [
    "## Read in the data\n",
    "\n",
    "We load the **Adult Income dataset** as a CSV file.\n",
    "\n",
    "Key considerations here are:\n",
    "\n",
    "- We treat `?` as missing values (`na_values = '?'`).\n",
    "- We use `skipinitialspace = True` to remove extra spaces after delimeters which is common in text-based datasets.\n",
    "\n",
    "After loading, we inspect the first few rows.\n"
   ]
  },
  {
   "cell_type": "code",
   "execution_count": 3,
   "id": "62f33f8a-fbd9-4128-a3ce-538e04943ec4",
   "metadata": {},
   "outputs": [
    {
     "data": {
      "text/html": [
       "<div>\n",
       "<style scoped>\n",
       "    .dataframe tbody tr th:only-of-type {\n",
       "        vertical-align: middle;\n",
       "    }\n",
       "\n",
       "    .dataframe tbody tr th {\n",
       "        vertical-align: top;\n",
       "    }\n",
       "\n",
       "    .dataframe thead th {\n",
       "        text-align: right;\n",
       "    }\n",
       "</style>\n",
       "<table border=\"1\" class=\"dataframe\">\n",
       "  <thead>\n",
       "    <tr style=\"text-align: right;\">\n",
       "      <th></th>\n",
       "      <th>age</th>\n",
       "      <th>workclass</th>\n",
       "      <th>fnlwgt</th>\n",
       "      <th>education_num</th>\n",
       "      <th>marital_status</th>\n",
       "      <th>relationship</th>\n",
       "      <th>race</th>\n",
       "      <th>sex</th>\n",
       "      <th>capital_gain</th>\n",
       "      <th>capital_loss</th>\n",
       "      <th>hours_per_week</th>\n",
       "      <th>income</th>\n",
       "      <th>education_level</th>\n",
       "      <th>occupation_grouped</th>\n",
       "      <th>native_region</th>\n",
       "      <th>age_group</th>\n",
       "    </tr>\n",
       "  </thead>\n",
       "  <tbody>\n",
       "    <tr>\n",
       "      <th>0</th>\n",
       "      <td>39</td>\n",
       "      <td>government</td>\n",
       "      <td>77516</td>\n",
       "      <td>13</td>\n",
       "      <td>single</td>\n",
       "      <td>single</td>\n",
       "      <td>white</td>\n",
       "      <td>male</td>\n",
       "      <td>2174</td>\n",
       "      <td>0</td>\n",
       "      <td>40</td>\n",
       "      <td>&lt;=50k</td>\n",
       "      <td>tertiary</td>\n",
       "      <td>white collar</td>\n",
       "      <td>north america</td>\n",
       "      <td>36-45</td>\n",
       "    </tr>\n",
       "    <tr>\n",
       "      <th>1</th>\n",
       "      <td>50</td>\n",
       "      <td>self-employed</td>\n",
       "      <td>83311</td>\n",
       "      <td>13</td>\n",
       "      <td>married</td>\n",
       "      <td>male spouse</td>\n",
       "      <td>white</td>\n",
       "      <td>male</td>\n",
       "      <td>0</td>\n",
       "      <td>0</td>\n",
       "      <td>13</td>\n",
       "      <td>&lt;=50k</td>\n",
       "      <td>tertiary</td>\n",
       "      <td>white collar</td>\n",
       "      <td>north america</td>\n",
       "      <td>46-60</td>\n",
       "    </tr>\n",
       "    <tr>\n",
       "      <th>2</th>\n",
       "      <td>38</td>\n",
       "      <td>private</td>\n",
       "      <td>215646</td>\n",
       "      <td>9</td>\n",
       "      <td>divorced</td>\n",
       "      <td>single</td>\n",
       "      <td>white</td>\n",
       "      <td>male</td>\n",
       "      <td>0</td>\n",
       "      <td>0</td>\n",
       "      <td>40</td>\n",
       "      <td>&lt;=50k</td>\n",
       "      <td>high school graduate</td>\n",
       "      <td>blue collar</td>\n",
       "      <td>north america</td>\n",
       "      <td>36-45</td>\n",
       "    </tr>\n",
       "    <tr>\n",
       "      <th>3</th>\n",
       "      <td>53</td>\n",
       "      <td>private</td>\n",
       "      <td>234721</td>\n",
       "      <td>7</td>\n",
       "      <td>married</td>\n",
       "      <td>male spouse</td>\n",
       "      <td>black</td>\n",
       "      <td>male</td>\n",
       "      <td>0</td>\n",
       "      <td>0</td>\n",
       "      <td>40</td>\n",
       "      <td>&lt;=50k</td>\n",
       "      <td>secondary</td>\n",
       "      <td>blue collar</td>\n",
       "      <td>north america</td>\n",
       "      <td>46-60</td>\n",
       "    </tr>\n",
       "    <tr>\n",
       "      <th>4</th>\n",
       "      <td>28</td>\n",
       "      <td>private</td>\n",
       "      <td>338409</td>\n",
       "      <td>13</td>\n",
       "      <td>married</td>\n",
       "      <td>female spouse</td>\n",
       "      <td>black</td>\n",
       "      <td>female</td>\n",
       "      <td>0</td>\n",
       "      <td>0</td>\n",
       "      <td>40</td>\n",
       "      <td>&lt;=50k</td>\n",
       "      <td>tertiary</td>\n",
       "      <td>white collar</td>\n",
       "      <td>central america</td>\n",
       "      <td>26-35</td>\n",
       "    </tr>\n",
       "    <tr>\n",
       "      <th>5</th>\n",
       "      <td>37</td>\n",
       "      <td>private</td>\n",
       "      <td>284582</td>\n",
       "      <td>14</td>\n",
       "      <td>married</td>\n",
       "      <td>female spouse</td>\n",
       "      <td>white</td>\n",
       "      <td>female</td>\n",
       "      <td>0</td>\n",
       "      <td>0</td>\n",
       "      <td>40</td>\n",
       "      <td>&lt;=50k</td>\n",
       "      <td>tertiary</td>\n",
       "      <td>white collar</td>\n",
       "      <td>north america</td>\n",
       "      <td>36-45</td>\n",
       "    </tr>\n",
       "    <tr>\n",
       "      <th>6</th>\n",
       "      <td>49</td>\n",
       "      <td>private</td>\n",
       "      <td>160187</td>\n",
       "      <td>5</td>\n",
       "      <td>married-spouse-absent</td>\n",
       "      <td>single</td>\n",
       "      <td>black</td>\n",
       "      <td>female</td>\n",
       "      <td>0</td>\n",
       "      <td>0</td>\n",
       "      <td>16</td>\n",
       "      <td>&lt;=50k</td>\n",
       "      <td>secondary</td>\n",
       "      <td>service</td>\n",
       "      <td>central america</td>\n",
       "      <td>46-60</td>\n",
       "    </tr>\n",
       "    <tr>\n",
       "      <th>7</th>\n",
       "      <td>52</td>\n",
       "      <td>self-employed</td>\n",
       "      <td>209642</td>\n",
       "      <td>9</td>\n",
       "      <td>married</td>\n",
       "      <td>male spouse</td>\n",
       "      <td>white</td>\n",
       "      <td>male</td>\n",
       "      <td>0</td>\n",
       "      <td>0</td>\n",
       "      <td>45</td>\n",
       "      <td>&gt;50k</td>\n",
       "      <td>high school graduate</td>\n",
       "      <td>white collar</td>\n",
       "      <td>north america</td>\n",
       "      <td>46-60</td>\n",
       "    </tr>\n",
       "    <tr>\n",
       "      <th>8</th>\n",
       "      <td>31</td>\n",
       "      <td>private</td>\n",
       "      <td>45781</td>\n",
       "      <td>14</td>\n",
       "      <td>single</td>\n",
       "      <td>single</td>\n",
       "      <td>white</td>\n",
       "      <td>female</td>\n",
       "      <td>14084</td>\n",
       "      <td>0</td>\n",
       "      <td>50</td>\n",
       "      <td>&gt;50k</td>\n",
       "      <td>tertiary</td>\n",
       "      <td>white collar</td>\n",
       "      <td>north america</td>\n",
       "      <td>26-35</td>\n",
       "    </tr>\n",
       "    <tr>\n",
       "      <th>9</th>\n",
       "      <td>42</td>\n",
       "      <td>private</td>\n",
       "      <td>159449</td>\n",
       "      <td>13</td>\n",
       "      <td>married</td>\n",
       "      <td>male spouse</td>\n",
       "      <td>white</td>\n",
       "      <td>male</td>\n",
       "      <td>5178</td>\n",
       "      <td>0</td>\n",
       "      <td>40</td>\n",
       "      <td>&gt;50k</td>\n",
       "      <td>tertiary</td>\n",
       "      <td>white collar</td>\n",
       "      <td>north america</td>\n",
       "      <td>36-45</td>\n",
       "    </tr>\n",
       "  </tbody>\n",
       "</table>\n",
       "</div>"
      ],
      "text/plain": [
       "   age      workclass  fnlwgt  education_num         marital_status  \\\n",
       "0   39     government   77516             13                 single   \n",
       "1   50  self-employed   83311             13                married   \n",
       "2   38        private  215646              9               divorced   \n",
       "3   53        private  234721              7                married   \n",
       "4   28        private  338409             13                married   \n",
       "5   37        private  284582             14                married   \n",
       "6   49        private  160187              5  married-spouse-absent   \n",
       "7   52  self-employed  209642              9                married   \n",
       "8   31        private   45781             14                 single   \n",
       "9   42        private  159449             13                married   \n",
       "\n",
       "    relationship   race     sex  capital_gain  capital_loss  hours_per_week  \\\n",
       "0         single  white    male          2174             0              40   \n",
       "1    male spouse  white    male             0             0              13   \n",
       "2         single  white    male             0             0              40   \n",
       "3    male spouse  black    male             0             0              40   \n",
       "4  female spouse  black  female             0             0              40   \n",
       "5  female spouse  white  female             0             0              40   \n",
       "6         single  black  female             0             0              16   \n",
       "7    male spouse  white    male             0             0              45   \n",
       "8         single  white  female         14084             0              50   \n",
       "9    male spouse  white    male          5178             0              40   \n",
       "\n",
       "  income       education_level occupation_grouped    native_region age_group  \n",
       "0  <=50k              tertiary       white collar    north america     36-45  \n",
       "1  <=50k              tertiary       white collar    north america     46-60  \n",
       "2  <=50k  high school graduate        blue collar    north america     36-45  \n",
       "3  <=50k             secondary        blue collar    north america     46-60  \n",
       "4  <=50k              tertiary       white collar  central america     26-35  \n",
       "5  <=50k              tertiary       white collar    north america     36-45  \n",
       "6  <=50k             secondary            service  central america     46-60  \n",
       "7   >50k  high school graduate       white collar    north america     46-60  \n",
       "8   >50k              tertiary       white collar    north america     26-35  \n",
       "9   >50k              tertiary       white collar    north america     36-45  "
      ]
     },
     "execution_count": 3,
     "metadata": {},
     "output_type": "execute_result"
    }
   ],
   "source": [
    "adult_data_filename = os.path.join(processed_dir, \"adult_cleaned.csv\")\n",
    "adult_df = pd.read_csv(adult_data_filename)\n",
    "adult_df.head(10)"
   ]
  },
  {
   "cell_type": "markdown",
   "id": "dc685bf6-8d75-4adc-bac5-bde9e06d3f78",
   "metadata": {},
   "source": [
    "We also inspect the dataset's shape. We see that the data has *32,561* rows and *15* columns.\n"
   ]
  },
  {
   "cell_type": "markdown",
   "id": "d7cbbb51-0051-439f-8812-627a5c0c2705",
   "metadata": {},
   "source": [
    "## check the shape of the dataset  and datatype "
   ]
  },
  {
   "cell_type": "code",
   "execution_count": 4,
   "id": "3dbde8d7-620a-4468-8630-cfb2eb05c95f",
   "metadata": {},
   "outputs": [
    {
     "data": {
      "text/plain": [
       "(32515, 16)"
      ]
     },
     "execution_count": 4,
     "metadata": {},
     "output_type": "execute_result"
    }
   ],
   "source": [
    "adult_df.shape"
   ]
  },
  {
   "cell_type": "markdown",
   "id": "96502286-f3e2-4866-90ef-1d319bdb10c4",
   "metadata": {},
   "source": [
    "In addition, we check the data types using `.info`. \n"
   ]
  },
  {
   "cell_type": "code",
   "execution_count": 5,
   "id": "77bb6a7a-e921-429c-aeca-7b262debce85",
   "metadata": {},
   "outputs": [
    {
     "name": "stdout",
     "output_type": "stream",
     "text": [
      "<class 'pandas.core.frame.DataFrame'>\n",
      "RangeIndex: 32515 entries, 0 to 32514\n",
      "Data columns (total 16 columns):\n",
      " #   Column              Non-Null Count  Dtype \n",
      "---  ------              --------------  ----- \n",
      " 0   age                 32515 non-null  int64 \n",
      " 1   workclass           32515 non-null  object\n",
      " 2   fnlwgt              32515 non-null  int64 \n",
      " 3   education_num       32515 non-null  int64 \n",
      " 4   marital_status      32515 non-null  object\n",
      " 5   relationship        32515 non-null  object\n",
      " 6   race                32515 non-null  object\n",
      " 7   sex                 32515 non-null  object\n",
      " 8   capital_gain        32515 non-null  int64 \n",
      " 9   capital_loss        32515 non-null  int64 \n",
      " 10  hours_per_week      32515 non-null  int64 \n",
      " 11  income              32515 non-null  object\n",
      " 12  education_level     32515 non-null  object\n",
      " 13  occupation_grouped  28865 non-null  object\n",
      " 14  native_region       32515 non-null  object\n",
      " 15  age_group           32515 non-null  object\n",
      "dtypes: int64(6), object(10)\n",
      "memory usage: 4.0+ MB\n"
     ]
    }
   ],
   "source": [
    "adult_df.info()"
   ]
  },
  {
   "cell_type": "markdown",
   "id": "f590b426-f855-4d8c-8dc7-98ba79362660",
   "metadata": {},
   "source": [
    "## Data Cleaning\r\n",
    "### 1. Assign proper column names to the columns\r\n",
    "\r\n",
    "One of the most stricking things from the above inspection is that the dataset lacks explicit column headers. We manually assign descriptive meaningful column names based on the description of the [dataset](https://archive.ics.uci.edu/dataset/2/adult). This is critical for readability and interpretability in the subsequent steps.\r\n"
   ]
  },
  {
   "cell_type": "code",
   "execution_count": null,
   "id": "d2b5e7b3-b53d-46bd-984d-fe306be5047a",
   "metadata": {},
   "outputs": [],
   "source": [
    "adult_df.columns = [\"age\", \"workclass\", \"fnlwgt\", \"education\", \"education_num\", \"marital_status\", \"occupation\", \"relationship\", \"race\", \"sex\", \"capital_gain\", \"capital_loss\", \"hours_per_week\", \"native_country\", \"income\"]"
   ]
  },
  {
   "cell_type": "code",
   "execution_count": 7,
   "id": "873eed82-233b-4600-ad3c-e458e45e9f5e",
   "metadata": {},
   "outputs": [
    {
     "data": {
      "text/html": [
       "<div>\n",
       "<style scoped>\n",
       "    .dataframe tbody tr th:only-of-type {\n",
       "        vertical-align: middle;\n",
       "    }\n",
       "\n",
       "    .dataframe tbody tr th {\n",
       "        vertical-align: top;\n",
       "    }\n",
       "\n",
       "    .dataframe thead th {\n",
       "        text-align: right;\n",
       "    }\n",
       "</style>\n",
       "<table border=\"1\" class=\"dataframe\">\n",
       "  <thead>\n",
       "    <tr style=\"text-align: right;\">\n",
       "      <th></th>\n",
       "      <th>age</th>\n",
       "      <th>fnlwgt</th>\n",
       "      <th>education_num</th>\n",
       "      <th>capital_gain</th>\n",
       "      <th>capital_loss</th>\n",
       "      <th>hours_per_week</th>\n",
       "    </tr>\n",
       "  </thead>\n",
       "  <tbody>\n",
       "    <tr>\n",
       "      <th>count</th>\n",
       "      <td>32515.000000</td>\n",
       "      <td>3.251500e+04</td>\n",
       "      <td>32515.000000</td>\n",
       "      <td>32515.000000</td>\n",
       "      <td>32515.000000</td>\n",
       "      <td>32515.000000</td>\n",
       "    </tr>\n",
       "    <tr>\n",
       "      <th>mean</th>\n",
       "      <td>38.590404</td>\n",
       "      <td>1.897946e+05</td>\n",
       "      <td>10.081716</td>\n",
       "      <td>1079.173428</td>\n",
       "      <td>87.427341</td>\n",
       "      <td>40.441089</td>\n",
       "    </tr>\n",
       "    <tr>\n",
       "      <th>std</th>\n",
       "      <td>13.639033</td>\n",
       "      <td>1.055758e+05</td>\n",
       "      <td>2.571987</td>\n",
       "      <td>7390.403187</td>\n",
       "      <td>403.231777</td>\n",
       "      <td>12.349830</td>\n",
       "    </tr>\n",
       "    <tr>\n",
       "      <th>min</th>\n",
       "      <td>17.000000</td>\n",
       "      <td>1.228500e+04</td>\n",
       "      <td>1.000000</td>\n",
       "      <td>0.000000</td>\n",
       "      <td>0.000000</td>\n",
       "      <td>1.000000</td>\n",
       "    </tr>\n",
       "    <tr>\n",
       "      <th>25%</th>\n",
       "      <td>28.000000</td>\n",
       "      <td>1.178330e+05</td>\n",
       "      <td>9.000000</td>\n",
       "      <td>0.000000</td>\n",
       "      <td>0.000000</td>\n",
       "      <td>40.000000</td>\n",
       "    </tr>\n",
       "    <tr>\n",
       "      <th>50%</th>\n",
       "      <td>37.000000</td>\n",
       "      <td>1.783560e+05</td>\n",
       "      <td>10.000000</td>\n",
       "      <td>0.000000</td>\n",
       "      <td>0.000000</td>\n",
       "      <td>40.000000</td>\n",
       "    </tr>\n",
       "    <tr>\n",
       "      <th>75%</th>\n",
       "      <td>48.000000</td>\n",
       "      <td>2.370475e+05</td>\n",
       "      <td>12.000000</td>\n",
       "      <td>0.000000</td>\n",
       "      <td>0.000000</td>\n",
       "      <td>45.000000</td>\n",
       "    </tr>\n",
       "    <tr>\n",
       "      <th>max</th>\n",
       "      <td>90.000000</td>\n",
       "      <td>1.484705e+06</td>\n",
       "      <td>16.000000</td>\n",
       "      <td>99999.000000</td>\n",
       "      <td>4356.000000</td>\n",
       "      <td>99.000000</td>\n",
       "    </tr>\n",
       "  </tbody>\n",
       "</table>\n",
       "</div>"
      ],
      "text/plain": [
       "                age        fnlwgt  education_num  capital_gain  capital_loss  \\\n",
       "count  32515.000000  3.251500e+04   32515.000000  32515.000000  32515.000000   \n",
       "mean      38.590404  1.897946e+05      10.081716   1079.173428     87.427341   \n",
       "std       13.639033  1.055758e+05       2.571987   7390.403187    403.231777   \n",
       "min       17.000000  1.228500e+04       1.000000      0.000000      0.000000   \n",
       "25%       28.000000  1.178330e+05       9.000000      0.000000      0.000000   \n",
       "50%       37.000000  1.783560e+05      10.000000      0.000000      0.000000   \n",
       "75%       48.000000  2.370475e+05      12.000000      0.000000      0.000000   \n",
       "max       90.000000  1.484705e+06      16.000000  99999.000000   4356.000000   \n",
       "\n",
       "       hours_per_week  \n",
       "count    32515.000000  \n",
       "mean        40.441089  \n",
       "std         12.349830  \n",
       "min          1.000000  \n",
       "25%         40.000000  \n",
       "50%         40.000000  \n",
       "75%         45.000000  \n",
       "max         99.000000  "
      ]
     },
     "execution_count": 7,
     "metadata": {},
     "output_type": "execute_result"
    }
   ],
   "source": [
    "adult_df.describe()"
   ]
  },
  {
   "cell_type": "markdown",
   "id": "7ec00966-45c2-44cb-8294-9ea888e8782c",
   "metadata": {},
   "source": [
    "## Categorical variables"
   ]
  },
  {
   "cell_type": "code",
   "execution_count": 8,
   "id": "7171f261-2584-4567-a92c-cf7c259c0072",
   "metadata": {},
   "outputs": [
    {
     "data": {
      "text/html": [
       "<div>\n",
       "<style scoped>\n",
       "    .dataframe tbody tr th:only-of-type {\n",
       "        vertical-align: middle;\n",
       "    }\n",
       "\n",
       "    .dataframe tbody tr th {\n",
       "        vertical-align: top;\n",
       "    }\n",
       "\n",
       "    .dataframe thead th {\n",
       "        text-align: right;\n",
       "    }\n",
       "</style>\n",
       "<table border=\"1\" class=\"dataframe\">\n",
       "  <thead>\n",
       "    <tr style=\"text-align: right;\">\n",
       "      <th></th>\n",
       "      <th>workclass</th>\n",
       "      <th>marital_status</th>\n",
       "      <th>relationship</th>\n",
       "      <th>race</th>\n",
       "      <th>sex</th>\n",
       "      <th>income</th>\n",
       "      <th>education_level</th>\n",
       "      <th>occupation_grouped</th>\n",
       "      <th>native_region</th>\n",
       "      <th>age_group</th>\n",
       "    </tr>\n",
       "  </thead>\n",
       "  <tbody>\n",
       "    <tr>\n",
       "      <th>count</th>\n",
       "      <td>32515</td>\n",
       "      <td>32515</td>\n",
       "      <td>32515</td>\n",
       "      <td>32515</td>\n",
       "      <td>32515</td>\n",
       "      <td>32515</td>\n",
       "      <td>32515</td>\n",
       "      <td>28865</td>\n",
       "      <td>32515</td>\n",
       "      <td>32515</td>\n",
       "    </tr>\n",
       "    <tr>\n",
       "      <th>unique</th>\n",
       "      <td>6</td>\n",
       "      <td>6</td>\n",
       "      <td>5</td>\n",
       "      <td>5</td>\n",
       "      <td>2</td>\n",
       "      <td>2</td>\n",
       "      <td>7</td>\n",
       "      <td>5</td>\n",
       "      <td>6</td>\n",
       "      <td>7</td>\n",
       "    </tr>\n",
       "    <tr>\n",
       "      <th>top</th>\n",
       "      <td>private</td>\n",
       "      <td>married</td>\n",
       "      <td>male spouse</td>\n",
       "      <td>white</td>\n",
       "      <td>male</td>\n",
       "      <td>&lt;=50k</td>\n",
       "      <td>high school graduate</td>\n",
       "      <td>white collar</td>\n",
       "      <td>north america</td>\n",
       "      <td>26-35</td>\n",
       "    </tr>\n",
       "    <tr>\n",
       "      <th>freq</th>\n",
       "      <td>22652</td>\n",
       "      <td>14985</td>\n",
       "      <td>13179</td>\n",
       "      <td>27773</td>\n",
       "      <td>21759</td>\n",
       "      <td>24678</td>\n",
       "      <td>10484</td>\n",
       "      <td>12884</td>\n",
       "      <td>30020</td>\n",
       "      <td>8502</td>\n",
       "    </tr>\n",
       "  </tbody>\n",
       "</table>\n",
       "</div>"
      ],
      "text/plain": [
       "       workclass marital_status relationship   race    sex income  \\\n",
       "count      32515          32515        32515  32515  32515  32515   \n",
       "unique         6              6            5      5      2      2   \n",
       "top      private        married  male spouse  white   male  <=50k   \n",
       "freq       22652          14985        13179  27773  21759  24678   \n",
       "\n",
       "             education_level occupation_grouped  native_region age_group  \n",
       "count                  32515              28865          32515     32515  \n",
       "unique                     7                  5              6         7  \n",
       "top     high school graduate       white collar  north america     26-35  \n",
       "freq                   10484              12884          30020      8502  "
      ]
     },
     "execution_count": 8,
     "metadata": {},
     "output_type": "execute_result"
    }
   ],
   "source": [
    "adult_df.describe(include='object')"
   ]
  },
  {
   "cell_type": "code",
   "execution_count": 9,
   "id": "b6c26234-46d1-45fe-ac3c-d2fcdab1b839",
   "metadata": {},
   "outputs": [
    {
     "data": {
      "text/plain": [
       "workclass\n",
       "private          0.696663\n",
       "government       0.133784\n",
       "self-employed    0.112440\n",
       "unknown          0.056466\n",
       "voluntary        0.000431\n",
       "unemployed       0.000215\n",
       "Name: proportion, dtype: float64"
      ]
     },
     "execution_count": 9,
     "metadata": {},
     "output_type": "execute_result"
    }
   ],
   "source": [
    "adult_df['workclass'].value_counts(normalize=True)"
   ]
  },
  {
   "cell_type": "code",
   "execution_count": 10,
   "id": "eddea7ad-4e11-499c-81a3-8616b870feb8",
   "metadata": {},
   "outputs": [
    {
     "data": {
      "text/plain": [
       "relationship\n",
       "male spouse          0.405321\n",
       "single               0.360695\n",
       "child                0.155590\n",
       "female spouse        0.048224\n",
       "extended relative    0.030171\n",
       "Name: proportion, dtype: float64"
      ]
     },
     "execution_count": 10,
     "metadata": {},
     "output_type": "execute_result"
    }
   ],
   "source": [
    "adult_df['relationship'].value_counts(normalize=True)"
   ]
  },
  {
   "cell_type": "code",
   "execution_count": 11,
   "id": "0bca5b95-1bed-476d-80c9-49de0e85b331",
   "metadata": {},
   "outputs": [
    {
     "data": {
      "text/plain": [
       "race\n",
       "white                        0.854160\n",
       "black                        0.096017\n",
       "asian or pacific islander    0.031924\n",
       "american indian or eskimo    0.009565\n",
       "other                        0.008335\n",
       "Name: proportion, dtype: float64"
      ]
     },
     "execution_count": 11,
     "metadata": {},
     "output_type": "execute_result"
    }
   ],
   "source": [
    "adult_df['race'].value_counts(normalize=True)"
   ]
  },
  {
   "cell_type": "markdown",
   "id": "b0dbc27c-bcb9-42a6-bd95-2f511164540a",
   "metadata": {},
   "source": [
    "## income distribution"
   ]
  },
  {
   "cell_type": "code",
   "execution_count": 12,
   "id": "50624991-b218-45b4-827b-6ce7406deeca",
   "metadata": {},
   "outputs": [
    {
     "data": {
      "text/html": [
       "<div>\n",
       "<style scoped>\n",
       "    .dataframe tbody tr th:only-of-type {\n",
       "        vertical-align: middle;\n",
       "    }\n",
       "\n",
       "    .dataframe tbody tr th {\n",
       "        vertical-align: top;\n",
       "    }\n",
       "\n",
       "    .dataframe thead th {\n",
       "        text-align: right;\n",
       "    }\n",
       "</style>\n",
       "<table border=\"1\" class=\"dataframe\">\n",
       "  <thead>\n",
       "    <tr style=\"text-align: right;\">\n",
       "      <th></th>\n",
       "      <th>income</th>\n",
       "      <th>total</th>\n",
       "    </tr>\n",
       "  </thead>\n",
       "  <tbody>\n",
       "    <tr>\n",
       "      <th>0</th>\n",
       "      <td>&lt;=50k</td>\n",
       "      <td>24678</td>\n",
       "    </tr>\n",
       "    <tr>\n",
       "      <th>1</th>\n",
       "      <td>&gt;50k</td>\n",
       "      <td>7837</td>\n",
       "    </tr>\n",
       "  </tbody>\n",
       "</table>\n",
       "</div>"
      ],
      "text/plain": [
       "  income  total\n",
       "0  <=50k  24678\n",
       "1   >50k   7837"
      ]
     },
     "execution_count": 12,
     "metadata": {},
     "output_type": "execute_result"
    }
   ],
   "source": [
    "adult_df_income=adult_df.groupby('income').size().reset_index(name='total')\n",
    "adult_df_income\n"
   ]
  },
  {
   "cell_type": "code",
   "execution_count": 13,
   "id": "880ad713-3bc9-47d7-906d-88642f6aa510",
   "metadata": {},
   "outputs": [
    {
     "data": {
      "application/vnd.plotly.v1+json": {
       "config": {
        "plotlyServerURL": "https://plot.ly"
       },
       "data": [
        {
         "domain": {
          "x": [
           0,
           1
          ],
          "y": [
           0,
           1
          ]
         },
         "hovertemplate": "income=%{label}<br>total=%{value}<extra></extra>",
         "labels": [
          "<=50k",
          ">50k"
         ],
         "legendgroup": "",
         "name": "",
         "showlegend": true,
         "type": "pie",
         "values": {
          "_inputArray": {
           "0": 24678,
           "1": 7837,
           "bdata": "ZmCdHg==",
           "dtype": "i2",
           "shape": "2"
          },
          "bdata": "ZmCdHg==",
          "dtype": "i2"
         }
        }
       ],
       "layout": {
        "autosize": true,
        "legend": {
         "tracegroupgap": 0
        },
        "paper_bgcolor": "rgb(0, 0, 0)",
        "piecolorway": [
         "#C0C0C0",
         "#808080"
        ],
        "plot_bgcolor": "rgb(0, 0, 0)",
        "template": {
         "data": {
          "pie": [
           {
            "automargin": true,
            "type": "pie"
           }
          ],
          "scatter": [
           {
            "line": {
             "width": 3
            },
            "marker": {
             "size": 9
            },
            "type": "scatter"
           }
          ],
          "scatter3d": [
           {
            "line": {
             "width": 3
            },
            "marker": {
             "size": 9
            },
            "type": "scatter3d"
           }
          ],
          "scattergeo": [
           {
            "line": {
             "width": 3
            },
            "marker": {
             "size": 9
            },
            "type": "scattergeo"
           }
          ],
          "scattergl": [
           {
            "line": {
             "width": 3
            },
            "marker": {
             "size": 9
            },
            "type": "scattergl"
           }
          ],
          "scatterpolar": [
           {
            "line": {
             "width": 3
            },
            "marker": {
             "size": 9
            },
            "type": "scatterpolar"
           }
          ],
          "scatterpolargl": [
           {
            "line": {
             "width": 3
            },
            "marker": {
             "size": 9
            },
            "type": "scatterpolargl"
           }
          ],
          "scatterternary": [
           {
            "line": {
             "width": 3
            },
            "marker": {
             "size": 9
            },
            "type": "scatterternary"
           }
          ],
          "table": [
           {
            "cells": {
             "height": 30
            },
            "header": {
             "height": 36
            },
            "type": "table"
           }
          ]
         },
         "layout": {
          "font": {
           "size": 18
          },
          "xaxis": {
           "title": {
            "standoff": 15
           }
          },
          "yaxis": {
           "title": {
            "standoff": 15
           }
          }
         }
        },
        "title": {
         "text": "Overall Income Distribution"
        }
       }
      },
      "image/png": "[encoded data removed]"
     },
     "metadata": {},
     "output_type": "display_data"
    }
   ],
   "source": [
    "fig = px.pie(\n",
    "    adult_df_income,\n",
    "    names='income',\n",
    "    values='total',\n",
    "    title='Overall Income Distribution',\n",
    "    color_discrete_sequence=['#C0C0C0', '#808080']\n",
    ")\n",
    "fig.update_layout(\n",
    "    template=\"presentation\",\n",
    "    paper_bgcolor='rgb(0,0,0)',\n",
    "    plot_bgcolor='rgb(0,0,0)'\n",
    ")\n",
    "fig.show()\n",
    "\n",
    "# static image exports\n",
    "fig.write_image(os.path.join(results_dir, 'income_distribution_pie_chart.jpg'))\n",
    "fig.write_image(os.path.join(results_dir, 'income_distribution_pie_chart.png'))\n",
    "\n",
    "# interactive HTML export\n",
    "fig.write_html(\n",
    "    os.path.join(results_dir, 'income_distribution_pie_chart.html'),\n",
    "    include_plotlyjs='cdn'\n",
    ")\n"
   ]
  },
  {
   "cell_type": "markdown",
   "id": "35340612-483f-47b4-997c-bb50590ad23f",
   "metadata": {},
   "source": [
    "## income by Age Group"
   ]
  },
  {
   "cell_type": "code",
   "execution_count": 14,
   "id": "9811c7d5-fe47-4823-b722-e8c7fc0ba313",
   "metadata": {},
   "outputs": [
    {
     "data": {
      "text/html": [
       "<div>\n",
       "<style scoped>\n",
       "    .dataframe tbody tr th:only-of-type {\n",
       "        vertical-align: middle;\n",
       "    }\n",
       "\n",
       "    .dataframe tbody tr th {\n",
       "        vertical-align: top;\n",
       "    }\n",
       "\n",
       "    .dataframe thead th {\n",
       "        text-align: right;\n",
       "    }\n",
       "</style>\n",
       "<table border=\"1\" class=\"dataframe\">\n",
       "  <thead>\n",
       "    <tr style=\"text-align: right;\">\n",
       "      <th></th>\n",
       "      <th>age_group</th>\n",
       "      <th>income</th>\n",
       "      <th>total_by_age</th>\n",
       "    </tr>\n",
       "  </thead>\n",
       "  <tbody>\n",
       "    <tr>\n",
       "      <th>0</th>\n",
       "      <td>18-25</td>\n",
       "      <td>&lt;=50k</td>\n",
       "      <td>5333</td>\n",
       "    </tr>\n",
       "    <tr>\n",
       "      <th>1</th>\n",
       "      <td>18-25</td>\n",
       "      <td>&gt;50k</td>\n",
       "      <td>114</td>\n",
       "    </tr>\n",
       "    <tr>\n",
       "      <th>2</th>\n",
       "      <td>26-35</td>\n",
       "      <td>&lt;=50k</td>\n",
       "      <td>6911</td>\n",
       "    </tr>\n",
       "    <tr>\n",
       "      <th>3</th>\n",
       "      <td>26-35</td>\n",
       "      <td>&gt;50k</td>\n",
       "      <td>1591</td>\n",
       "    </tr>\n",
       "    <tr>\n",
       "      <th>4</th>\n",
       "      <td>36-45</td>\n",
       "      <td>&lt;=50k</td>\n",
       "      <td>5230</td>\n",
       "    </tr>\n",
       "    <tr>\n",
       "      <th>5</th>\n",
       "      <td>36-45</td>\n",
       "      <td>&gt;50k</td>\n",
       "      <td>2771</td>\n",
       "    </tr>\n",
       "    <tr>\n",
       "      <th>6</th>\n",
       "      <td>46-60</td>\n",
       "      <td>&lt;=50k</td>\n",
       "      <td>4479</td>\n",
       "    </tr>\n",
       "    <tr>\n",
       "      <th>7</th>\n",
       "      <td>46-60</td>\n",
       "      <td>&gt;50k</td>\n",
       "      <td>2810</td>\n",
       "    </tr>\n",
       "    <tr>\n",
       "      <th>8</th>\n",
       "      <td>61-75</td>\n",
       "      <td>&lt;=50k</td>\n",
       "      <td>1580</td>\n",
       "    </tr>\n",
       "    <tr>\n",
       "      <th>9</th>\n",
       "      <td>61-75</td>\n",
       "      <td>&gt;50k</td>\n",
       "      <td>511</td>\n",
       "    </tr>\n",
       "    <tr>\n",
       "      <th>10</th>\n",
       "      <td>76+</td>\n",
       "      <td>&lt;=50k</td>\n",
       "      <td>200</td>\n",
       "    </tr>\n",
       "    <tr>\n",
       "      <th>11</th>\n",
       "      <td>76+</td>\n",
       "      <td>&gt;50k</td>\n",
       "      <td>40</td>\n",
       "    </tr>\n",
       "    <tr>\n",
       "      <th>12</th>\n",
       "      <td>&lt;18</td>\n",
       "      <td>&lt;=50k</td>\n",
       "      <td>945</td>\n",
       "    </tr>\n",
       "  </tbody>\n",
       "</table>\n",
       "</div>"
      ],
      "text/plain": [
       "   age_group income  total_by_age\n",
       "0      18-25  <=50k          5333\n",
       "1      18-25   >50k           114\n",
       "2      26-35  <=50k          6911\n",
       "3      26-35   >50k          1591\n",
       "4      36-45  <=50k          5230\n",
       "5      36-45   >50k          2771\n",
       "6      46-60  <=50k          4479\n",
       "7      46-60   >50k          2810\n",
       "8      61-75  <=50k          1580\n",
       "9      61-75   >50k           511\n",
       "10       76+  <=50k           200\n",
       "11       76+   >50k            40\n",
       "12       <18  <=50k           945"
      ]
     },
     "execution_count": 14,
     "metadata": {},
     "output_type": "execute_result"
    }
   ],
   "source": [
    "adult_df_income_age =adult_df.groupby(['age_group', 'income']).size().reset_index(name='total_by_age')\n",
    "adult_df_income_age"
   ]
  },
  {
   "cell_type": "code",
   "execution_count": 15,
   "id": "4c29441e-5120-4a74-b02f-1f57b9318bca",
   "metadata": {},
   "outputs": [
    {
     "data": {
      "text/plain": [
       "0     5447\n",
       "1     5447\n",
       "2     8502\n",
       "3     8502\n",
       "4     8001\n",
       "5     8001\n",
       "6     7289\n",
       "7     7289\n",
       "8     2091\n",
       "9     2091\n",
       "10     240\n",
       "11     240\n",
       "12     945\n",
       "Name: total_by_age, dtype: int64"
      ]
     },
     "execution_count": 15,
     "metadata": {},
     "output_type": "execute_result"
    }
   ],
   "source": [
    "total_per_group= adult_df_income_age.groupby('age_group')['total_by_age'].transform('sum')\n",
    "total_per_group"
   ]
  },
  {
   "cell_type": "code",
   "execution_count": 16,
   "id": "8920f16d-db00-429b-b2ca-788b43727de5",
   "metadata": {},
   "outputs": [
    {
     "data": {
      "text/html": [
       "<div>\n",
       "<style scoped>\n",
       "    .dataframe tbody tr th:only-of-type {\n",
       "        vertical-align: middle;\n",
       "    }\n",
       "\n",
       "    .dataframe tbody tr th {\n",
       "        vertical-align: top;\n",
       "    }\n",
       "\n",
       "    .dataframe thead th {\n",
       "        text-align: right;\n",
       "    }\n",
       "</style>\n",
       "<table border=\"1\" class=\"dataframe\">\n",
       "  <thead>\n",
       "    <tr style=\"text-align: right;\">\n",
       "      <th></th>\n",
       "      <th>age_group</th>\n",
       "      <th>income</th>\n",
       "      <th>total_by_age</th>\n",
       "      <th>percentage</th>\n",
       "    </tr>\n",
       "  </thead>\n",
       "  <tbody>\n",
       "    <tr>\n",
       "      <th>0</th>\n",
       "      <td>18-25</td>\n",
       "      <td>&lt;=50k</td>\n",
       "      <td>5333</td>\n",
       "      <td>97.907105</td>\n",
       "    </tr>\n",
       "    <tr>\n",
       "      <th>1</th>\n",
       "      <td>18-25</td>\n",
       "      <td>&gt;50k</td>\n",
       "      <td>114</td>\n",
       "      <td>2.092895</td>\n",
       "    </tr>\n",
       "    <tr>\n",
       "      <th>2</th>\n",
       "      <td>26-35</td>\n",
       "      <td>&lt;=50k</td>\n",
       "      <td>6911</td>\n",
       "      <td>81.286756</td>\n",
       "    </tr>\n",
       "    <tr>\n",
       "      <th>3</th>\n",
       "      <td>26-35</td>\n",
       "      <td>&gt;50k</td>\n",
       "      <td>1591</td>\n",
       "      <td>18.713244</td>\n",
       "    </tr>\n",
       "    <tr>\n",
       "      <th>4</th>\n",
       "      <td>36-45</td>\n",
       "      <td>&lt;=50k</td>\n",
       "      <td>5230</td>\n",
       "      <td>65.366829</td>\n",
       "    </tr>\n",
       "    <tr>\n",
       "      <th>5</th>\n",
       "      <td>36-45</td>\n",
       "      <td>&gt;50k</td>\n",
       "      <td>2771</td>\n",
       "      <td>34.633171</td>\n",
       "    </tr>\n",
       "    <tr>\n",
       "      <th>6</th>\n",
       "      <td>46-60</td>\n",
       "      <td>&lt;=50k</td>\n",
       "      <td>4479</td>\n",
       "      <td>61.448758</td>\n",
       "    </tr>\n",
       "    <tr>\n",
       "      <th>7</th>\n",
       "      <td>46-60</td>\n",
       "      <td>&gt;50k</td>\n",
       "      <td>2810</td>\n",
       "      <td>38.551242</td>\n",
       "    </tr>\n",
       "    <tr>\n",
       "      <th>8</th>\n",
       "      <td>61-75</td>\n",
       "      <td>&lt;=50k</td>\n",
       "      <td>1580</td>\n",
       "      <td>75.561932</td>\n",
       "    </tr>\n",
       "    <tr>\n",
       "      <th>9</th>\n",
       "      <td>61-75</td>\n",
       "      <td>&gt;50k</td>\n",
       "      <td>511</td>\n",
       "      <td>24.438068</td>\n",
       "    </tr>\n",
       "    <tr>\n",
       "      <th>10</th>\n",
       "      <td>76+</td>\n",
       "      <td>&lt;=50k</td>\n",
       "      <td>200</td>\n",
       "      <td>83.333333</td>\n",
       "    </tr>\n",
       "    <tr>\n",
       "      <th>11</th>\n",
       "      <td>76+</td>\n",
       "      <td>&gt;50k</td>\n",
       "      <td>40</td>\n",
       "      <td>16.666667</td>\n",
       "    </tr>\n",
       "    <tr>\n",
       "      <th>12</th>\n",
       "      <td>&lt;18</td>\n",
       "      <td>&lt;=50k</td>\n",
       "      <td>945</td>\n",
       "      <td>100.000000</td>\n",
       "    </tr>\n",
       "  </tbody>\n",
       "</table>\n",
       "</div>"
      ],
      "text/plain": [
       "   age_group income  total_by_age  percentage\n",
       "0      18-25  <=50k          5333   97.907105\n",
       "1      18-25   >50k           114    2.092895\n",
       "2      26-35  <=50k          6911   81.286756\n",
       "3      26-35   >50k          1591   18.713244\n",
       "4      36-45  <=50k          5230   65.366829\n",
       "5      36-45   >50k          2771   34.633171\n",
       "6      46-60  <=50k          4479   61.448758\n",
       "7      46-60   >50k          2810   38.551242\n",
       "8      61-75  <=50k          1580   75.561932\n",
       "9      61-75   >50k           511   24.438068\n",
       "10       76+  <=50k           200   83.333333\n",
       "11       76+   >50k            40   16.666667\n",
       "12       <18  <=50k           945  100.000000"
      ]
     },
     "execution_count": 16,
     "metadata": {},
     "output_type": "execute_result"
    }
   ],
   "source": [
    "total_per_group= adult_df_income_age.groupby('age_group')['total_by_age'].transform('sum')\n",
    "adult_df_income_age['percentage'] = (adult_df_income_age['total_by_age']/total_per_group) * 100\n",
    "adult_df_income_age"
   ]
  },
  {
   "cell_type": "code",
   "execution_count": null,
   "id": "e26e9d45-5910-400c-80ea-b1c9f9f974d4",
   "metadata": {},
   "outputs": [
    {
     "data": {
      "application/vnd.plotly.v1+json": {
       "config": {
        "plotlyServerURL": "https://plot.ly"
       },
       "data": [
        {
         "alignmentgroup": "True",
         "hovertemplate": "income=<=50k<br>age_group=%{x}<br>percentage=%{text}<extra></extra>",
         "legendgroup": "<=50k",
         "marker": {
          "color": "#0b5e55",
          "pattern": {
           "shape": ""
          }
         },
         "name": "<=50k",
         "offsetgroup": "<=50k",
         "orientation": "v",
         "showlegend": true,
         "text": {
          "_inputArray": {
           "0": 97.90710482834588,
           "1": 81.28675605739826,
           "2": 65.36682914635671,
           "3": 61.44875840307312,
           "4": 75.56193208990913,
           "5": 83.33333333333334,
           "6": 100,
           "bdata": "g/JoAQ56WEAmHRQ2WlJUQJa09CB6V1BAi4BU6nC5TkDkLgOy9uNSQFZVVVVV1VRAAAAAAAAAWUA=",
           "dtype": "f8",
           "shape": "7"
          },
          "bdata": "g/JoAQ56WEAmHRQ2WlJUQJa09CB6V1BAi4BU6nC5TkDkLgOy9uNSQFZVVVVV1VRAAAAAAAAAWUA=",
          "dtype": "f8"
         },
         "textposition": "outside",
         "texttemplate": "%{text:.2f}%",
         "type": "bar",
         "x": [
          "18-25",
          "26-35",
          "36-45",
          "46-60",
          "61-75",
          "76+",
          "<18"
         ],
         "xaxis": "x",
         "y": {
          "_inputArray": {
           "0": 97.90710482834588,
           "1": 81.28675605739826,
           "2": 65.36682914635671,
           "3": 61.44875840307312,
           "4": 75.56193208990913,
           "5": 83.33333333333334,
           "6": 100,
           "bdata": "g/JoAQ56WEAmHRQ2WlJUQJa09CB6V1BAi4BU6nC5TkDkLgOy9uNSQFZVVVVV1VRAAAAAAAAAWUA=",
           "dtype": "f8",
           "shape": "7"
          },
          "bdata": "g/JoAQ56WEAmHRQ2WlJUQJa09CB6V1BAi4BU6nC5TkDkLgOy9uNSQFZVVVVV1VRAAAAAAAAAWUA=",
          "dtype": "f8"
         },
         "yaxis": "y"
        },
        {
         "alignmentgroup": "True",
         "hovertemplate": "income=>50k<br>age_group=%{x}<br>percentage=%{text}<extra></extra>",
         "legendgroup": ">50k",
         "marker": {
          "color": "#c0ffee",
          "pattern": {
           "shape": ""
          }
         },
         "name": ">50k",
         "offsetgroup": ">50k",
         "orientation": "v",
         "showlegend": true,
         "text": {
          "_inputArray": {
           "0": 2.0928951716541215,
           "1": 18.71324394260174,
           "2": 34.6331708536433,
           "3": 38.55124159692688,
           "4": 24.438067910090865,
           "5": 16.666666666666664,
           "bdata": "oq/h0j++AEBpi68nl7YyQNWWFr4LUUFAdX+rFY9GQ0BwRPM3JXA4QKqqqqqqqjBA",
           "dtype": "f8",
           "shape": "6"
          },
          "bdata": "oq/h0j++AEBpi68nl7YyQNWWFr4LUUFAdX+rFY9GQ0BwRPM3JXA4QKqqqqqqqjBA",
          "dtype": "f8"
         },
         "textposition": "outside",
         "texttemplate": "%{text:.2f}%",
         "type": "bar",
         "x": [
          "18-25",
          "26-35",
          "36-45",
          "46-60",
          "61-75",
          "76+"
         ],
         "xaxis": "x",
         "y": {
          "_inputArray": {
           "0": 2.0928951716541215,
           "1": 18.71324394260174,
           "2": 34.6331708536433,
           "3": 38.55124159692688,
           "4": 24.438067910090865,
           "5": 16.666666666666664,
           "bdata": "oq/h0j++AEBpi68nl7YyQNWWFr4LUUFAdX+rFY9GQ0BwRPM3JXA4QKqqqqqqqjBA",
           "dtype": "f8",
           "shape": "6"
          },
          "bdata": "oq/h0j++AEBpi68nl7YyQNWWFr4LUUFAdX+rFY9GQ0BwRPM3JXA4QKqqqqqqqjBA",
          "dtype": "f8"
         },
         "yaxis": "y"
        }
       ],
       "layout": {
        "autosize": true,
        "barmode": "group",
        "legend": {
         "title": {
          "text": "Income Level"
         },
         "tracegroupgap": 0
        },
        "paper_bgcolor": "rgb(0, 0, 0)",
        "plot_bgcolor": "rgb(0, 0, 0)",
        "template": {
         "data": {
          "pie": [
           {
            "automargin": true,
            "type": "pie"
           }
          ],
          "scatter": [
           {
            "line": {
             "width": 3
            },
            "marker": {
             "size": 9
            },
            "type": "scatter"
           }
          ],
          "scatter3d": [
           {
            "line": {
             "width": 3
            },
            "marker": {
             "size": 9
            },
            "type": "scatter3d"
           }
          ],
          "scattergeo": [
           {
            "line": {
             "width": 3
            },
            "marker": {
             "size": 9
            },
            "type": "scattergeo"
           }
          ],
          "scattergl": [
           {
            "line": {
             "width": 3
            },
            "marker": {
             "size": 9
            },
            "type": "scattergl"
           }
          ],
          "scatterpolar": [
           {
            "line": {
             "width": 3
            },
            "marker": {
             "size": 9
            },
            "type": "scatterpolar"
           }
          ],
          "scatterpolargl": [
           {
            "line": {
             "width": 3
            },
            "marker": {
             "size": 9
            },
            "type": "scatterpolargl"
           }
          ],
          "scatterternary": [
           {
            "line": {
             "width": 3
            },
            "marker": {
             "size": 9
            },
            "type": "scatterternary"
           }
          ],
          "table": [
           {
            "cells": {
             "height": 30
            },
            "header": {
             "height": 36
            },
            "type": "table"
           }
          ]
         },
         "layout": {
          "font": {
           "size": 18
          },
          "xaxis": {
           "title": {
            "standoff": 15
           }
          },
          "yaxis": {
           "title": {
            "standoff": 15
           }
          }
         }
        },
        "title": {
         "text": "Income Distribution by Age Group(%)"
        },
        "xaxis": {
         "anchor": "y",
         "autorange": true,
         "domain": [
          0,
          1
         ],
         "range": [
          -0.5,
          6.5
         ],
         "title": {
          "text": "Age Group"
         },
         "type": "category"
        },
        "yaxis": {
         "anchor": "x",
         "autorange": true,
         "domain": [
          0,
          1
         ],
         "range": [
          0,
          105.26315789473684
         ],
         "title": {
          "text": "Percentage of Population"
         },
         "type": "linear"
        }
       }
      },
      "image/png": "[encoded data removed]"
     },
     "metadata": {},
     "output_type": "display_data"
    }
   ],
   "source": [
    "fig = px.bar(\n",
    "    adult_df_income_age,\n",
    "    x = 'age_group',\n",
    "    y = 'percentage',\n",
    "    color = 'income',\n",
    "    title='Income Distribution by Age Group(%)',\n",
    "    barmode='group',\n",
    "    color_discrete_sequence=['#0b5e55', '#c0ffee'],\n",
    "    text='percentage'\n",
    ")\n",
    "fig.update_traces(texttemplate = '%{text:.2f}%', textposition='outside')\n",
    "fig.update_layout(template='presentation', legend_title=dict(text='Income Level'), xaxis_title='Age Group', yaxis_title='Percentage of Population', paper_bgcolor='rgb(0, 0, 0)', plot_bgcolor='rgb(0, 0, 0)')\n",
    "fig.show()\n",
    "fig.write_image(os.path.join(results_dir, 'income_distribution_by_agegroupbar.jpg'))\n",
    "fig.write_image(os.path.join(results_dir, 'income_distribution_by_agegroupbar.png'))\n",
    "fig.write_html(os.path.join(results_dir, 'income_distribution_by_agegroupbar.html'))"
   ]
  },
  {
   "cell_type": "code",
   "execution_count": null,
   "id": "9cdf6e36-d7fc-4117-bef8-637e19f2bc2e",
   "metadata": {},
   "outputs": [],
   "source": [
    "themes = ['plotly', 'plotly_white', 'plotly_dark', 'ggplot2', 'seaborn', 'simple_white', 'presentation', 'xgridoff', 'gridon', 'none']\n",
    "for theme in themes:\n",
    "    fig.update_layout(template=theme)\n",
    "    fig.show()"
   ]
  },
  {
   "cell_type": "code",
   "execution_count": null,
   "id": "51e486d8-5e2d-40d0-acbe-7de707fe9be9",
   "metadata": {},
   "outputs": [],
   "source": [
    "adult_df_income_native_region = adult_df.groupby(['native_region', 'income']).size().reset_index(name='total_income_distr')\n",
    "adult_df_income_native_region"
   ]
  },
  {
   "cell_type": "code",
   "execution_count": null,
   "id": "78c11194-2647-4cc2-8ac9-8a88e5dfe7d0",
   "metadata": {},
   "outputs": [],
   "source": [
    "# ... [grouping & percentage calculation code stays the same] ...\n",
    "\n",
    "fig = px.bar(\n",
    "    adult_df_income_reg,\n",
    "    x='native_region',\n",
    "    y='percentage',\n",
    "    color='income',\n",
    "    title='Income Distribution by Native Region (%)',\n",
    "    barmode='group',\n",
    "    color_discrete_sequence=['#C0C0C0', '#808080'],\n",
    "    text='percentage'\n",
    ")\n",
    "\n",
    "fig.update_traces(texttemplate='%{text:.2f}%', textposition='outside')\n",
    "\n",
    "fig.update_layout(\n",
    "    template=\"presentation\",\n",
    "    xaxis_title='native region',\n",
    "    yaxis_title='percentage',\n",
    "    legend_title=dict(text='Income level'),\n",
    "    xaxis_title_standoff=50,\n",
    "    paper_bgcolor='rgb(0,0,0)',\n",
    "    plot_bgcolor='rgb(0,0,0)'\n",
    ")\n",
    "\n",
    "fig.show()\n",
    "fig.write_image(os.path.join(results_dir, 'income_distribution_by_nativeregion_bar.jpg'))\n",
    "fig.write_image(os.path.join(results_dir, 'income_distribution_by_nativeregion_bar.png'))\n",
    "fig.write_html(os.path.join(results_dir, 'income_distribution_by_nativeregion_bar.html'))\n"
   ]
  },
  {
   "cell_type": "code",
   "execution_count": null,
   "id": "89fc8b8d-0f57-4249-9fc6-0d745377e126",
   "metadata": {},
   "outputs": [],
   "source": [
    "# Group by race and income, count occurrences\n",
    "adult_df_income_race = adult_df.groupby(['race', 'income']) \\\n",
    "    .size() \\\n",
    "    .reset_index(name='total_income_race')\n",
    "\n",
    "# Calculate total per race\n",
    "total_per_group = adult_df_income_race.groupby('race')['total_income_race'] \\\n",
    "    .transform('sum')\n",
    "\n",
    "# Calculate percentage\n",
    "adult_df_income_race['percentage'] = (\n",
    "    adult_df_income_race['total_income_race'] \n",
    "    / total_per_group\n",
    ") * 100\n",
    "\n",
    "# Plot the bar chart\n",
    "fig = px.bar(\n",
    "    adult_df_income_race,\n",
    "    x='race',\n",
    "    y='percentage',\n",
    "    color='income',\n",
    "    title='Income Distribution by Race (%)',\n",
    "    barmode='group',\n",
    "    color_discrete_sequence=['#C0C0C0', '#808080'],\n",
    "    text='percentage'\n",
    ")\n",
    "\n",
    "# Format the text on bars\n",
    "fig.update_traces(texttemplate='%{text:.2f}%', textposition='outside')\n",
    "\n",
    "# Corrected layout call\n",
    "fig.update_layout(\n",
    "    template='presentation',\n",
    "    legend_title=dict(text='Income Level'),\n",
    "    xaxis_title='Race',\n",
    "    yaxis_title='Percentage of Population',\n",
    "    xaxis_title_standoff=50,\n",
    "    paper_bgcolor='rgb(0, 0, 0)',\n",
    "    plot_bgcolor='rgb(0, 0, 0)'\n",
    ")\n",
    "\n",
    "# Show and save\n",
    "fig.show()\n",
    "fig.write_image(os.path.join(results_dir, 'income_distribution_by_race_bar.jpg'))\n",
    "fig.write_image(os.path.join(results_dir, 'income_distribution_by_race_bar.png'))\n",
    "fig.write_html(os.path.join(results_dir, 'income_distribution_by_race_bar.html'))\n"
   ]
  },
  {
   "cell_type": "code",
   "execution_count": null,
   "id": "c98ef04b-97a9-4033-ad37-aa5145614245",
   "metadata": {},
   "outputs": [],
   "source": [
    "adult_df_income_edu_occ = adult_df.groupby(['education_level', 'occupation_grouped', 'income']).size().reset_index(name='total').sort_values('total', ascending=False)\n",
    "adult_df_income_edu_occ"
   ]
  },
  {
   "cell_type": "code",
   "execution_count": null,
   "id": "3bbeb1e2-52bb-4431-90be-fa38c4b897e0",
   "metadata": {},
   "outputs": [],
   "source": [
    "adult_df_income_edu_occ['edu_occ'] = (adult_df_income_edu_occ['education_level'] + ' | ' + adult_df_income_edu_occ['occupation_grouped'])\n",
    "adult_df_income_edu_occ"
   ]
  },
  {
   "cell_type": "code",
   "execution_count": null,
   "id": "1dc17276-af93-4bff-99eb-72da8c8b1bb2",
   "metadata": {},
   "outputs": [],
   "source": [
    "num = 15\n",
    "adult_df_combos = adult_df_income_edu_occ.head(num)\n",
    "\n",
    "fig = px.bar(\n",
    "    adult_df_combos,\n",
    "    x='total',\n",
    "    y='edu_occ',\n",
    "    color='income',\n",
    "    orientation='h',\n",
    "    title=f'Top {num} Education and Occupations by Income Group',\n",
    "    barmode='group',\n",
    "    color_discrete_sequence=['#C0C0C0', '#808080'],\n",
    "    text='total'\n",
    ")\n",
    "\n",
    "# Place value labels inside the bars\n",
    "fig.update_traces(textposition='inside', texttemplate='%{text}')\n",
    "\n",
    "# One clean layout call\n",
    "fig.update_layout(\n",
    "    template='presentation',\n",
    "    xaxis_title='Number of Individuals',\n",
    "    yaxis_title='Education | Occupation Group',\n",
    "    legend_title=dict(text='Income Level'),\n",
    "    margin=dict(l=350, r=50, t=50, b=50),\n",
    "    paper_bgcolor='#000000',\n",
    "    plot_bgcolor='#000000'\n",
    ")\n",
    "\n",
    "fig.show()\n",
    "\n",
    "# Export\n",
    "fig.write_image(os.path.join(results_dir, 'income_distribution_by_eduandocc_bar.jpg'))\n",
    "fig.write_image(os.path.join(results_dir, 'income_distribution_by_eduandocc_bar.png'))\n",
    "fig.write_html(os.path.join(results_dir, 'income_distribution_by_eduandocc_bar.html'))\n"
   ]
  },
  {
   "cell_type": "code",
   "execution_count": null,
   "id": "4539d93c-77ea-4517-b6ee-db4ec1d22dfe",
   "metadata": {},
   "outputs": [],
   "source": []
  },
  {
   "cell_type": "code",
   "execution_count": null,
   "id": "abd367af-74a6-419b-a29b-391218c68cd6",
   "metadata": {},
   "outputs": [],
   "source": []
  },
  {
   "cell_type": "code",
   "execution_count": null,
   "id": "52db98ba-064a-465c-8dc0-128ba1f21da7",
   "metadata": {},
   "outputs": [],
   "source": []
  }
 ],
 "metadata": {
  "kernelspec": {
   "display_name": "Python 3 (ipykernel)",
   "language": "python",
   "name": "python3"
  },
  "language_info": {
   "codemirror_mode": {
    "name": "ipython",
    "version": 3
   },
   "file_extension": ".py",
   "mimetype": "text/x-python",
   "name": "python",
   "nbconvert_exporter": "python",
   "pygments_lexer": "ipython3",
   "version": "3.11.7"
  }
 },
 "nbformat": 4,
 "nbformat_minor": 5
}
